{
  "nbformat": 4,
  "nbformat_minor": 0,
  "metadata": {
    "colab": {
      "name": "KneighboursClassifier.ipynb",
      "provenance": [],
      "collapsed_sections": []
    },
    "kernelspec": {
      "name": "python3",
      "display_name": "Python 3"
    },
    "language_info": {
      "name": "python"
    }
  },
  "cells": [
    {
      "cell_type": "code",
      "metadata": {
        "id": "k2mXBo8Y08E_"
      },
      "source": [
        "from sklearn.datasets import load_iris\n",
        "iris = load_iris()\n"
      ],
      "execution_count": null,
      "outputs": []
    },
    {
      "cell_type": "code",
      "metadata": {
        "id": "kY7v2hfm-ssJ"
      },
      "source": [
        "X,Y = iris.data, iris.target"
      ],
      "execution_count": null,
      "outputs": []
    },
    {
      "cell_type": "code",
      "metadata": {
        "id": "ukYBOYoc-wh5"
      },
      "source": [
        "from sklearn.neighbors import KNeighborsClassifier"
      ],
      "execution_count": null,
      "outputs": []
    },
    {
      "cell_type": "code",
      "metadata": {
        "id": "rhKiUibE_NlA"
      },
      "source": [
        "knn = KNeighborsClassifier(n_neighbors=1)"
      ],
      "execution_count": null,
      "outputs": []
    },
    {
      "cell_type": "code",
      "metadata": {
        "id": "tYBGc2Lu_Swx"
      },
      "source": [
        "from sklearn.model_selection import train_test_split\n"
      ],
      "execution_count": null,
      "outputs": []
    },
    {
      "cell_type": "code",
      "metadata": {
        "id": "LjfL_ser_p5_"
      },
      "source": [
        "X_train, X_test, Y_train, Y_test = train_test_split(X , Y,test_size=0.5,random_state=15)"
      ],
      "execution_count": null,
      "outputs": []
    },
    {
      "cell_type": "code",
      "metadata": {
        "id": "aqhahVH8_3n2"
      },
      "source": [
        "knn=knn.fit(X_train,Y_train)"
      ],
      "execution_count": null,
      "outputs": []
    },
    {
      "cell_type": "code",
      "metadata": {
        "id": "ythIsUCMACxR"
      },
      "source": [
        "Y_pred = knn.predict(X_test)"
      ],
      "execution_count": null,
      "outputs": []
    },
    {
      "cell_type": "code",
      "metadata": {
        "id": "NAi4_JEQAGEB"
      },
      "source": [
        "from sklearn.metrics import accuracy_score"
      ],
      "execution_count": null,
      "outputs": []
    },
    {
      "cell_type": "code",
      "metadata": {
        "colab": {
          "base_uri": "https://localhost:8080/"
        },
        "id": "NecrpQZ0ALJJ",
        "outputId": "8e997555-6ea7-4171-88b9-3f7ca33a6549"
      },
      "source": [
        "accuracy_score(Y_test,Y_pred)"
      ],
      "execution_count": null,
      "outputs": [
        {
          "output_type": "execute_result",
          "data": {
            "text/plain": [
              "0.9466666666666667"
            ]
          },
          "metadata": {},
          "execution_count": 10
        }
      ]
    },
    {
      "cell_type": "code",
      "metadata": {
        "id": "JAEdwG3yARs3"
      },
      "source": [
        "from sklearn.model_selection import GridSearchCV"
      ],
      "execution_count": null,
      "outputs": []
    },
    {
      "cell_type": "code",
      "metadata": {
        "id": "MgM-RKCTAsbZ"
      },
      "source": [
        "parameters = {'n_neighbors':[1,2,5,10,20], 'p':[1, 2,3]}"
      ],
      "execution_count": null,
      "outputs": []
    },
    {
      "cell_type": "code",
      "metadata": {
        "id": "DwQyMzGpBcG2"
      },
      "source": [
        "gsv = GridSearchCV(knn,param_grid = parameters)"
      ],
      "execution_count": null,
      "outputs": []
    },
    {
      "cell_type": "code",
      "metadata": {
        "id": "BBD4Eu0gBvxF"
      },
      "source": [
        "gsv = gsv.fit(X_train, Y_train)"
      ],
      "execution_count": null,
      "outputs": []
    },
    {
      "cell_type": "code",
      "metadata": {
        "id": "zDkA5ZhYCVR0",
        "colab": {
          "base_uri": "https://localhost:8080/"
        },
        "outputId": "14afa153-600e-4e44-e7d8-d37953cae53d"
      },
      "source": [
        "gsv.cv_results_"
      ],
      "execution_count": null,
      "outputs": [
        {
          "output_type": "execute_result",
          "data": {
            "text/plain": [
              "{'mean_fit_time': array([0.00062103, 0.00053587, 0.00058064, 0.00058331, 0.00056219,\n",
              "        0.00061994, 0.00058217, 0.0006217 , 0.00058322, 0.00055699,\n",
              "        0.00044422, 0.00051098, 0.00053573, 0.00059242, 0.00053906]),\n",
              " 'mean_score_time': array([0.00213633, 0.0016849 , 0.00235677, 0.00185614, 0.00172029,\n",
              "        0.00227304, 0.00173607, 0.0018733 , 0.00212855, 0.00168624,\n",
              "        0.00134425, 0.00188141, 0.00173268, 0.00215993, 0.00213256]),\n",
              " 'mean_test_score': array([0.93333333, 0.92      , 0.94666667, 0.93333333, 0.93333333,\n",
              "        0.93333333, 0.94666667, 0.97333333, 0.97333333, 0.96      ,\n",
              "        0.96      , 0.93333333, 0.94666667, 0.92      , 0.92      ]),\n",
              " 'param_n_neighbors': masked_array(data=[1, 1, 1, 2, 2, 2, 5, 5, 5, 10, 10, 10, 20, 20, 20],\n",
              "              mask=[False, False, False, False, False, False, False, False,\n",
              "                    False, False, False, False, False, False, False],\n",
              "        fill_value='?',\n",
              "             dtype=object),\n",
              " 'param_p': masked_array(data=[1, 2, 3, 1, 2, 3, 1, 2, 3, 1, 2, 3, 1, 2, 3],\n",
              "              mask=[False, False, False, False, False, False, False, False,\n",
              "                    False, False, False, False, False, False, False],\n",
              "        fill_value='?',\n",
              "             dtype=object),\n",
              " 'params': [{'n_neighbors': 1, 'p': 1},\n",
              "  {'n_neighbors': 1, 'p': 2},\n",
              "  {'n_neighbors': 1, 'p': 3},\n",
              "  {'n_neighbors': 2, 'p': 1},\n",
              "  {'n_neighbors': 2, 'p': 2},\n",
              "  {'n_neighbors': 2, 'p': 3},\n",
              "  {'n_neighbors': 5, 'p': 1},\n",
              "  {'n_neighbors': 5, 'p': 2},\n",
              "  {'n_neighbors': 5, 'p': 3},\n",
              "  {'n_neighbors': 10, 'p': 1},\n",
              "  {'n_neighbors': 10, 'p': 2},\n",
              "  {'n_neighbors': 10, 'p': 3},\n",
              "  {'n_neighbors': 20, 'p': 1},\n",
              "  {'n_neighbors': 20, 'p': 2},\n",
              "  {'n_neighbors': 20, 'p': 3}],\n",
              " 'rank_test_score': array([ 8, 13,  5,  8,  8,  8,  5,  1,  1,  3,  4,  8,  5, 13, 13],\n",
              "       dtype=int32),\n",
              " 'split0_test_score': array([1.        , 1.        , 1.        , 0.93333333, 1.        ,\n",
              "        1.        , 0.93333333, 1.        , 1.        , 1.        ,\n",
              "        1.        , 1.        , 0.86666667, 0.86666667, 0.93333333]),\n",
              " 'split1_test_score': array([0.93333333, 0.93333333, 0.93333333, 0.93333333, 0.93333333,\n",
              "        0.93333333, 0.93333333, 0.93333333, 0.93333333, 0.93333333,\n",
              "        0.93333333, 0.93333333, 1.        , 1.        , 0.93333333]),\n",
              " 'split2_test_score': array([0.86666667, 0.8       , 0.86666667, 0.93333333, 0.86666667,\n",
              "        0.86666667, 1.        , 1.        , 1.        , 1.        ,\n",
              "        0.93333333, 0.86666667, 1.        , 0.93333333, 0.93333333]),\n",
              " 'split3_test_score': array([1.        , 1.        , 1.        , 1.        , 1.        ,\n",
              "        1.        , 1.        , 1.        , 1.        , 1.        ,\n",
              "        1.        , 1.        , 1.        , 0.93333333, 0.93333333]),\n",
              " 'split4_test_score': array([0.86666667, 0.86666667, 0.93333333, 0.86666667, 0.86666667,\n",
              "        0.86666667, 0.86666667, 0.93333333, 0.93333333, 0.86666667,\n",
              "        0.93333333, 0.86666667, 0.86666667, 0.86666667, 0.86666667]),\n",
              " 'std_fit_time': array([1.50079479e-04, 4.49550480e-05, 2.48864232e-05, 3.14772485e-05,\n",
              "        1.66046174e-05, 5.89644190e-05, 4.76642569e-05, 8.78888110e-05,\n",
              "        4.58117190e-05, 3.47559667e-05, 5.06834161e-05, 8.50570302e-05,\n",
              "        4.18995810e-05, 5.39510006e-05, 3.20110128e-05]),\n",
              " 'std_score_time': array([8.36525901e-04, 1.00299157e-04, 5.28290661e-04, 1.11656631e-04,\n",
              "        9.76951483e-05, 2.92987795e-04, 1.08783122e-04, 2.05367094e-04,\n",
              "        2.00092224e-04, 1.31956497e-04, 7.93425222e-05, 2.29908231e-04,\n",
              "        1.36249207e-04, 4.85388225e-04, 1.45032324e-04]),\n",
              " 'std_test_score': array([0.05962848, 0.07774603, 0.04988877, 0.0421637 , 0.05962848,\n",
              "        0.05962848, 0.04988877, 0.03265986, 0.03265986, 0.05333333,\n",
              "        0.03265986, 0.05962848, 0.06531973, 0.04988877, 0.02666667])}"
            ]
          },
          "metadata": {},
          "execution_count": 15
        }
      ]
    },
    {
      "cell_type": "code",
      "metadata": {
        "colab": {
          "base_uri": "https://localhost:8080/"
        },
        "id": "57p7Mh48CeU0",
        "outputId": "f4509875-6b75-453b-a5d5-e6e18fe988bc"
      },
      "source": [
        "gsv.best_params_"
      ],
      "execution_count": null,
      "outputs": [
        {
          "output_type": "execute_result",
          "data": {
            "text/plain": [
              "{'n_neighbors': 5, 'p': 2}"
            ]
          },
          "metadata": {},
          "execution_count": 16
        }
      ]
    },
    {
      "cell_type": "code",
      "metadata": {
        "id": "Ezk-T0KsCv-J"
      },
      "source": [
        "knn =gsv.best_estimator_"
      ],
      "execution_count": null,
      "outputs": []
    },
    {
      "cell_type": "code",
      "metadata": {
        "id": "p9ab7PyHC9mi"
      },
      "source": [
        "Y_pred_gsv= knn.predict(X_test)"
      ],
      "execution_count": null,
      "outputs": []
    },
    {
      "cell_type": "code",
      "metadata": {
        "colab": {
          "base_uri": "https://localhost:8080/"
        },
        "id": "ciwaWak2DNi1",
        "outputId": "2858d98f-4637-4126-f9ca-5e76b0a3e3f5"
      },
      "source": [
        "accuracy_score(Y_test,Y_pred_gsv)"
      ],
      "execution_count": null,
      "outputs": [
        {
          "output_type": "execute_result",
          "data": {
            "text/plain": [
              "0.9333333333333333"
            ]
          },
          "metadata": {},
          "execution_count": 19
        }
      ]
    },
    {
      "cell_type": "code",
      "metadata": {
        "id": "uAGwAA6vDYC5"
      },
      "source": [
        "from sklearn.datasets import load_iris\n",
        "iris = load_iris()"
      ],
      "execution_count": null,
      "outputs": []
    },
    {
      "cell_type": "code",
      "metadata": {
        "id": "WBaHW-OccwZy"
      },
      "source": [
        "X=iris.data\n"
      ],
      "execution_count": null,
      "outputs": []
    },
    {
      "cell_type": "code",
      "metadata": {
        "colab": {
          "base_uri": "https://localhost:8080/",
          "height": 283
        },
        "id": "fKc82GIAc3YX",
        "outputId": "99284e0b-9c0f-425d-d47a-a3b948e7e4c3"
      },
      "source": [
        "X=X[:,1:3]\n",
        "X.shape\n",
        "import matplotlib.pyplot as plt\n",
        "plt.scatter(X[:,0],X[:,1])"
      ],
      "execution_count": null,
      "outputs": [
        {
          "output_type": "execute_result",
          "data": {
            "text/plain": [
              "<matplotlib.collections.PathCollection at 0x7fa3c4d1ce50>"
            ]
          },
          "metadata": {},
          "execution_count": 22
        },
        {
          "output_type": "display_data",
          "data": {
            "image/png": "[encoded data removed]",
            "text/plain": [
              "<Figure size 432x288 with 1 Axes>"
            ]
          },
          "metadata": {
            "needs_background": "light"
          }
        }
      ]
    },
    {
      "cell_type": "code",
      "metadata": {
        "id": "vkTOKsyNdwD8"
      },
      "source": [
        "from sklearn.cluster import KMeans"
      ],
      "execution_count": null,
      "outputs": []
    },
    {
      "cell_type": "code",
      "metadata": {
        "id": "hr3SkF94dzvd"
      },
      "source": [
        "km =KMeans(n_clusters=2)"
      ],
      "execution_count": null,
      "outputs": []
    },
    {
      "cell_type": "code",
      "metadata": {
        "id": "0CPt6Z8_d2S0"
      },
      "source": [
        "km= km.fit(X)"
      ],
      "execution_count": null,
      "outputs": []
    },
    {
      "cell_type": "code",
      "metadata": {
        "id": "TnJ_9zSGd_XE"
      },
      "source": [
        "predictions =km.predict(X)"
      ],
      "execution_count": null,
      "outputs": []
    },
    {
      "cell_type": "code",
      "metadata": {
        "colab": {
          "base_uri": "https://localhost:8080/"
        },
        "id": "52twPSoxeDOY",
        "outputId": "8bfa3be6-76de-4f03-a4ca-a58f853ea9c3"
      },
      "source": [
        "predictions"
      ],
      "execution_count": null,
      "outputs": [
        {
          "output_type": "execute_result",
          "data": {
            "text/plain": [
              "array([1, 1, 1, 1, 1, 1, 1, 1, 1, 1, 1, 1, 1, 1, 1, 1, 1, 1, 1, 1, 1, 1,\n",
              "       1, 1, 1, 1, 1, 1, 1, 1, 1, 1, 1, 1, 1, 1, 1, 1, 1, 1, 1, 1, 1, 1,\n",
              "       1, 1, 1, 1, 1, 1, 0, 0, 0, 0, 0, 0, 0, 0, 0, 0, 0, 0, 0, 0, 0, 0,\n",
              "       0, 0, 0, 0, 0, 0, 0, 0, 0, 0, 0, 0, 0, 0, 0, 0, 0, 0, 0, 0, 0, 0,\n",
              "       0, 0, 0, 0, 0, 0, 0, 0, 0, 0, 1, 0, 0, 0, 0, 0, 0, 0, 0, 0, 0, 0,\n",
              "       0, 0, 0, 0, 0, 0, 0, 0, 0, 0, 0, 0, 0, 0, 0, 0, 0, 0, 0, 0, 0, 0,\n",
              "       0, 0, 0, 0, 0, 0, 0, 0, 0, 0, 0, 0, 0, 0, 0, 0, 0, 0], dtype=int32)"
            ]
          },
          "metadata": {},
          "execution_count": 27
        }
      ]
    },
    {
      "cell_type": "code",
      "metadata": {
        "id": "5277wVKQeFIY"
      },
      "source": [
        "import numpy as np"
      ],
      "execution_count": null,
      "outputs": []
    },
    {
      "cell_type": "code",
      "metadata": {
        "id": "p8NmSAzoedqE",
        "colab": {
          "base_uri": "https://localhost:8080/",
          "height": 283
        },
        "outputId": "c352b597-c4b5-45dc-fee9-ef9432f6c652"
      },
      "source": [
        "\n",
        "plt.scatter(X[:,0],X[:,1])"
      ],
      "execution_count": null,
      "outputs": [
        {
          "output_type": "execute_result",
          "data": {
            "text/plain": [
              "<matplotlib.collections.PathCollection at 0x7fa3c4d1cc10>"
            ]
          },
          "metadata": {},
          "execution_count": 29
        },
        {
          "output_type": "display_data",
          "data": {
            "image/png": "[encoded data removed]",
            "text/plain": [
              "<Figure size 432x288 with 1 Axes>"
            ]
          },
          "metadata": {
            "needs_background": "light"
          }
        }
      ]
    },
    {
      "cell_type": "code",
      "metadata": {
        "id": "6VhYO9hLeyPa"
      },
      "source": [
        "\n",
        "X_train, X_test = X[:120,:],X[120:,:]"
      ],
      "execution_count": null,
      "outputs": []
    },
    {
      "cell_type": "code",
      "metadata": {
        "id": "LXr2cMFZv4zX"
      },
      "source": [
        "from sklearn.cluster import AgglomerativeClustering"
      ],
      "execution_count": null,
      "outputs": []
    },
    {
      "cell_type": "code",
      "metadata": {
        "id": "_WttCLcLv_ZE"
      },
      "source": [
        "agg= AgglomerativeClustering(n_clusters=2)"
      ],
      "execution_count": null,
      "outputs": []
    },
    {
      "cell_type": "code",
      "metadata": {
        "id": "wYblcI4uwLBr"
      },
      "source": [
        ""
      ],
      "execution_count": null,
      "outputs": []
    },
    {
      "cell_type": "code",
      "metadata": {
        "id": "ojZ4mDMjwOLE"
      },
      "source": [
        "predictions = agg.fit_predict(X)"
      ],
      "execution_count": null,
      "outputs": []
    },
    {
      "cell_type": "code",
      "metadata": {
        "colab": {
          "base_uri": "https://localhost:8080/",
          "height": 283
        },
        "id": "jvWohxlpwUMO",
        "outputId": "ddb71145-9186-4458-b8f7-76e205967742"
      },
      "source": [
        "plt.scatter(X[:,0],X[:,1])"
      ],
      "execution_count": null,
      "outputs": [
        {
          "output_type": "execute_result",
          "data": {
            "text/plain": [
              "<matplotlib.collections.PathCollection at 0x7fa3c27ece50>"
            ]
          },
          "metadata": {},
          "execution_count": 34
        },
        {
          "output_type": "display_data",
          "data": {
            "image/png": "[encoded data removed]",
            "text/plain": [
              "<Figure size 432x288 with 1 Axes>"
            ]
          },
          "metadata": {
            "needs_background": "light"
          }
        }
      ]
    },
    {
      "cell_type": "markdown",
      "metadata": {
        "id": "HlsUZdWsn7fc"
      },
      "source": [
        ""
      ]
    },
    {
      "cell_type": "code",
      "metadata": {
        "id": "0tOSWz0nwesA"
      },
      "source": [
        "from sklearn.metrics import silhouette_score"
      ],
      "execution_count": null,
      "outputs": []
    },
    {
      "cell_type": "code",
      "metadata": {
        "colab": {
          "base_uri": "https://localhost:8080/"
        },
        "id": "WE4NT__1xk3K",
        "outputId": "953a556f-eb8c-4adf-cf75-d4d273128b32"
      },
      "source": [
        "silhouette_score(X,predictions)"
      ],
      "execution_count": null,
      "outputs": [
        {
          "output_type": "execute_result",
          "data": {
            "text/plain": [
              "0.741004899858999"
            ]
          },
          "metadata": {},
          "execution_count": 36
        }
      ]
    },
    {
      "cell_type": "code",
      "metadata": {
        "id": "mA64-w7FxnTf"
      },
      "source": [
        ""
      ],
      "execution_count": null,
      "outputs": []
    }
  ]
}